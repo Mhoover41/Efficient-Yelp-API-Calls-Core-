{
 "cells": [
  {
   "cell_type": "code",
   "execution_count": 2,
   "id": "7157eac7",
   "metadata": {},
   "outputs": [],
   "source": [
    "# Standard Imports\n",
    "import numpy as np\n",
    "import pandas as pd\n",
    "import matplotlib.pyplot as plt\n",
    "import seaborn as sns\n",
    "# Additional Imports\n",
    "import os, json, math, time\n",
    "from yelpapi import YelpAPI\n",
    "from tqdm.notebook import tqdm_notebook"
   ]
  },
  {
   "cell_type": "code",
   "execution_count": 3,
   "id": "0d7637d0",
   "metadata": {},
   "outputs": [],
   "source": [
    "# Load API Credentials\n",
    "with open('/Users/Melissa/.secret/yelp_api.json') as f:   #use your path here!\n",
    "    login = json.load(f)\n",
    "# Instantiate YelpAPI Variable\n",
    "yelp_api = YelpAPI(login['api-key'], timeout_s=5.0)"
   ]
  },
  {
   "cell_type": "code",
   "execution_count": 4,
   "id": "c50b6d75",
   "metadata": {},
   "outputs": [],
   "source": [
    "# set our API call parameters \n",
    "LOCATION = 'Boise,ID'\n",
    "TERM = 'Pizza'"
   ]
  },
  {
   "cell_type": "markdown",
   "id": "091683b2",
   "metadata": {},
   "source": [
    "# Create a results-in-progress JSON file, but only if it doesn't exist."
   ]
  },
  {
   "cell_type": "code",
   "execution_count": 5,
   "id": "c90ef7eb",
   "metadata": {},
   "outputs": [
    {
     "data": {
      "text/plain": [
       "'Data/results_in_progress_ID_pizza.json'"
      ]
     },
     "execution_count": 5,
     "metadata": {},
     "output_type": "execute_result"
    }
   ],
   "source": [
    "# Specifying JSON_FILE filename (can include a folder)\n",
    "# include the search terms in the filename\n",
    "JSON_FILE = \"Data/results_in_progress_ID_pizza.json\"\n",
    "JSON_FILE"
   ]
  },
  {
   "cell_type": "markdown",
   "id": "e9c9c980",
   "metadata": {},
   "source": [
    "# Check if our JSON_FILE already exists. This will prevent us from accidentally overwriting an existing file."
   ]
  },
  {
   "cell_type": "code",
   "execution_count": 6,
   "id": "47d78ebf",
   "metadata": {},
   "outputs": [
    {
     "name": "stdout",
     "output_type": "stream",
     "text": [
      "[i] Data/results_in_progress_ID_pizza.json not found. Saving empty list to file.\n"
     ]
    }
   ],
   "source": [
    "## Check if JSON_FILE exists\n",
    "file_exists = os.path.isfile(JSON_FILE)\n",
    "## If it does not exist: \n",
    "if file_exists == False:\n",
    "    \n",
    "    ## CREATE ANY NEEDED FOLDERS\n",
    "    # Get the Folder Name only\n",
    "    folder = os.path.dirname(JSON_FILE)\n",
    "    ## If JSON_FILE included a folder:\n",
    "    if len(folder)>0:\n",
    "        # create the folder\n",
    "        os.makedirs(folder,exist_ok=True)\n",
    "        \n",
    "        \n",
    "    ## INFORM USER AND SAVE EMPTY LIST\n",
    "    print(f'[i] {JSON_FILE} not found. Saving empty list to file.')\n",
    "    \n",
    "    \n",
    "    # save an empty list\n",
    "    with open(JSON_FILE,'w') as f:\n",
    "        json.dump([],f)  \n",
    "# If it exists, inform user\n",
    "else:\n",
    "    print(f\"[i] {JSON_FILE} already exists.\")"
   ]
  },
  {
   "cell_type": "markdown",
   "id": "8a0ba255",
   "metadata": {},
   "source": [
    "# Determine how many results are already in the file"
   ]
  },
  {
   "cell_type": "code",
   "execution_count": 7,
   "id": "7fa57051",
   "metadata": {},
   "outputs": [
    {
     "name": "stdout",
     "output_type": "stream",
     "text": [
      "- 0 previous results found.\n"
     ]
    }
   ],
   "source": [
    "## Load previous results and use len of results for offset\n",
    "with open(JSON_FILE,'r') as f:\n",
    "    previous_results = json.load(f)\n",
    "    \n",
    "## set offset based on previous results\n",
    "n_results = len(previous_results)\n",
    "print(f'- {n_results} previous results found.')"
   ]
  },
  {
   "cell_type": "markdown",
   "id": "2a4ecd59",
   "metadata": {},
   "source": [
    " # Figure out how many pages of results we will need"
   ]
  },
  {
   "cell_type": "code",
   "execution_count": 8,
   "id": "967fe72c",
   "metadata": {},
   "outputs": [
    {
     "data": {
      "text/plain": [
       "dict_keys(['businesses', 'total', 'region'])"
      ]
     },
     "execution_count": 8,
     "metadata": {},
     "output_type": "execute_result"
    }
   ],
   "source": [
    "# use our yelp_api variable's search_query method to perform our API call\n",
    "results = yelp_api.search_query(location=LOCATION,\n",
    "                                term=TERM,\n",
    "                               offset=n_results)\n",
    "results.keys()"
   ]
  },
  {
   "cell_type": "code",
   "execution_count": 9,
   "id": "cdcf60e9",
   "metadata": {},
   "outputs": [
    {
     "data": {
      "text/plain": [
       "287"
      ]
     },
     "execution_count": 9,
     "metadata": {},
     "output_type": "execute_result"
    }
   ],
   "source": [
    "## How many results total?\n",
    "total_results = results['total']\n",
    "total_results"
   ]
  },
  {
   "cell_type": "code",
   "execution_count": 10,
   "id": "5e7018a2",
   "metadata": {},
   "outputs": [
    {
     "data": {
      "text/plain": [
       "20"
      ]
     },
     "execution_count": 10,
     "metadata": {},
     "output_type": "execute_result"
    }
   ],
   "source": [
    "## How many did we get the details for?\n",
    "results_per_page = len(results['businesses'])\n",
    "results_per_page"
   ]
  },
  {
   "cell_type": "code",
   "execution_count": 11,
   "id": "39313b6c",
   "metadata": {},
   "outputs": [
    {
     "data": {
      "text/plain": [
       "15"
      ]
     },
     "execution_count": 11,
     "metadata": {},
     "output_type": "execute_result"
    }
   ],
   "source": [
    "# Import additional packages for controlling our loop\n",
    "import time, math\n",
    "# Use math.ceil to round up for the total number of pages of results.\n",
    "n_pages = math.ceil((results['total']-n_results)/ results_per_page)\n",
    "n_pages"
   ]
  },
  {
   "cell_type": "markdown",
   "id": "0f2c03f0",
   "metadata": {},
   "source": [
    " # Add this page of results to .json file"
   ]
  },
  {
   "cell_type": "code",
   "execution_count": 12,
   "id": "3b0a8856",
   "metadata": {},
   "outputs": [],
   "source": [
    "# join new results with old list with extend and save to file\n",
    "previous_results.extend(results['businesses'])  \n",
    "with open(JSON_FILE,'w') as f:\n",
    "     json.dump(previous_results,f)"
   ]
  },
  {
   "cell_type": "markdown",
   "id": "11dc4e48",
   "metadata": {},
   "source": [
    "# Set up a progress bar in our for loop."
   ]
  },
  {
   "cell_type": "code",
   "execution_count": 13,
   "id": "0d5bccf4",
   "metadata": {},
   "outputs": [
    {
     "data": {
      "application/vnd.jupyter.widget-view+json": {
       "model_id": "f362905e52084e868f5a16ff083b982d",
       "version_major": 2,
       "version_minor": 0
      },
      "text/plain": [
       "  0%|          | 0/15 [00:00<?, ?it/s]"
      ]
     },
     "metadata": {},
     "output_type": "display_data"
    }
   ],
   "source": [
    "from tqdm.notebook import tqdm_notebook\n",
    "import time\n",
    "for i in tqdm_notebook(range(n_pages)):\n",
    "    # adds 200 ms pause\n",
    "    time.sleep(.2) "
   ]
  },
  {
   "cell_type": "markdown",
   "id": "40b53d4b",
   "metadata": {},
   "source": [
    "# For Loop to call each page"
   ]
  },
  {
   "cell_type": "code",
   "execution_count": 14,
   "id": "eb88f793",
   "metadata": {},
   "outputs": [
    {
     "data": {
      "application/vnd.jupyter.widget-view+json": {
       "model_id": "75336e2ef3d641438bec24674cb3cb10",
       "version_major": 2,
       "version_minor": 0
      },
      "text/plain": [
       "  0%|          | 0/15 [00:00<?, ?it/s]"
      ]
     },
     "metadata": {},
     "output_type": "display_data"
    }
   ],
   "source": [
    "for i in tqdm_notebook( range(1,n_pages+1)):\n",
    "    \n",
    "    ## Read in results in progress file and check the length\n",
    "    with open(JSON_FILE, 'r') as f:\n",
    "        previous_results = json.load(f)\n",
    "    ## save number of results for to use as offset\n",
    "    n_results = len(previous_results)\n",
    "    ## use n_results as the OFFSET \n",
    "    results = yelp_api.search_query(location=LOCATION,\n",
    "                                    term=TERM, \n",
    "                                    offset=n_results)\n",
    "    \n",
    "    ## append new results and save to file\n",
    "    previous_results.extend(results['businesses'])\n",
    "    \n",
    "    with open(JSON_FILE,'w') as f:\n",
    "        json.dump(previous_results,f)\n",
    "    \n",
    "    # add a 200ms pause\n",
    "    time.sleep(.2)"
   ]
  },
  {
   "cell_type": "markdown",
   "id": "654fba62",
   "metadata": {},
   "source": [
    "  # Convert .json to dataframe"
   ]
  },
  {
   "cell_type": "code",
   "execution_count": 15,
   "id": "7db99638",
   "metadata": {},
   "outputs": [
    {
     "data": {
      "text/html": [
       "<div>\n",
       "<style scoped>\n",
       "    .dataframe tbody tr th:only-of-type {\n",
       "        vertical-align: middle;\n",
       "    }\n",
       "\n",
       "    .dataframe tbody tr th {\n",
       "        vertical-align: top;\n",
       "    }\n",
       "\n",
       "    .dataframe thead th {\n",
       "        text-align: right;\n",
       "    }\n",
       "</style>\n",
       "<table border=\"1\" class=\"dataframe\">\n",
       "  <thead>\n",
       "    <tr style=\"text-align: right;\">\n",
       "      <th></th>\n",
       "      <th>id</th>\n",
       "      <th>alias</th>\n",
       "      <th>name</th>\n",
       "      <th>image_url</th>\n",
       "      <th>is_closed</th>\n",
       "      <th>url</th>\n",
       "      <th>review_count</th>\n",
       "      <th>categories</th>\n",
       "      <th>rating</th>\n",
       "      <th>coordinates</th>\n",
       "      <th>transactions</th>\n",
       "      <th>price</th>\n",
       "      <th>location</th>\n",
       "      <th>phone</th>\n",
       "      <th>display_phone</th>\n",
       "      <th>distance</th>\n",
       "    </tr>\n",
       "  </thead>\n",
       "  <tbody>\n",
       "    <tr>\n",
       "      <th>0</th>\n",
       "      <td>mabS8Eq8CLjMZdLl3V7GWA</td>\n",
       "      <td>guidos-original-new-york-style-pizza-downtown-...</td>\n",
       "      <td>Guido's Original New York Style Pizza Downtown</td>\n",
       "      <td>https://s3-media2.fl.yelpcdn.com/bphoto/uCmfN6...</td>\n",
       "      <td>False</td>\n",
       "      <td>https://www.yelp.com/biz/guidos-original-new-y...</td>\n",
       "      <td>313</td>\n",
       "      <td>[{'alias': 'pizza', 'title': 'Pizza'}, {'alias...</td>\n",
       "      <td>4.5</td>\n",
       "      <td>{'latitude': 43.6149556, 'longitude': -116.198...</td>\n",
       "      <td>[delivery]</td>\n",
       "      <td>$</td>\n",
       "      <td>{'address1': '235 N 5th St', 'address2': '', '...</td>\n",
       "      <td>+12083459011</td>\n",
       "      <td>(208) 345-9011</td>\n",
       "      <td>3611.749214</td>\n",
       "    </tr>\n",
       "    <tr>\n",
       "      <th>1</th>\n",
       "      <td>o7_5qYZan3jo9jtDUoHRsw</td>\n",
       "      <td>casanova-pizzeria-boise-2</td>\n",
       "      <td>Casanova Pizzeria</td>\n",
       "      <td>https://s3-media1.fl.yelpcdn.com/bphoto/tt7Pdt...</td>\n",
       "      <td>False</td>\n",
       "      <td>https://www.yelp.com/biz/casanova-pizzeria-boi...</td>\n",
       "      <td>60</td>\n",
       "      <td>[{'alias': 'pizza', 'title': 'Pizza'}, {'alias...</td>\n",
       "      <td>4.5</td>\n",
       "      <td>{'latitude': 43.6204869, 'longitude': -116.220...</td>\n",
       "      <td>[delivery]</td>\n",
       "      <td>$$</td>\n",
       "      <td>{'address1': '2431 W Fairview Ave', 'address2'...</td>\n",
       "      <td>+12089952662</td>\n",
       "      <td>(208) 995-2662</td>\n",
       "      <td>2100.618313</td>\n",
       "    </tr>\n",
       "    <tr>\n",
       "      <th>2</th>\n",
       "      <td>3X2pmXKqaMQ6xZjJHlKn8w</td>\n",
       "      <td>the-wylder-boise-2</td>\n",
       "      <td>The Wylder</td>\n",
       "      <td>https://s3-media2.fl.yelpcdn.com/bphoto/yH9Q85...</td>\n",
       "      <td>False</td>\n",
       "      <td>https://www.yelp.com/biz/the-wylder-boise-2?ad...</td>\n",
       "      <td>480</td>\n",
       "      <td>[{'alias': 'pizza', 'title': 'Pizza'}, {'alias...</td>\n",
       "      <td>4.5</td>\n",
       "      <td>{'latitude': 43.6115114754023, 'longitude': -1...</td>\n",
       "      <td>[]</td>\n",
       "      <td>$$</td>\n",
       "      <td>{'address1': '501 W Broad St', 'address2': Non...</td>\n",
       "      <td>+12082093837</td>\n",
       "      <td>(208) 209-3837</td>\n",
       "      <td>3312.402056</td>\n",
       "    </tr>\n",
       "    <tr>\n",
       "      <th>3</th>\n",
       "      <td>-aZpjNPSNfTXYkLMkQDiKw</td>\n",
       "      <td>spitfire-pizza-boise</td>\n",
       "      <td>Spitfire Pizza</td>\n",
       "      <td>https://s3-media4.fl.yelpcdn.com/bphoto/ydGrGp...</td>\n",
       "      <td>False</td>\n",
       "      <td>https://www.yelp.com/biz/spitfire-pizza-boise?...</td>\n",
       "      <td>243</td>\n",
       "      <td>[{'alias': 'pizza', 'title': 'Pizza'}, {'alias...</td>\n",
       "      <td>4.5</td>\n",
       "      <td>{'latitude': 43.58042, 'longitude': -116.2131}</td>\n",
       "      <td>[pickup, delivery]</td>\n",
       "      <td>$$</td>\n",
       "      <td>{'address1': '2450 South Vista Ave', 'address2...</td>\n",
       "      <td>+12083429451</td>\n",
       "      <td>(208) 342-9451</td>\n",
       "      <td>4195.389528</td>\n",
       "    </tr>\n",
       "    <tr>\n",
       "      <th>4</th>\n",
       "      <td>VD4mZEBNiCeyGSq51XV9jw</td>\n",
       "      <td>3-wood-pizza-and-pub-boise</td>\n",
       "      <td>3 Wood Pizza &amp; Pub</td>\n",
       "      <td>https://s3-media4.fl.yelpcdn.com/bphoto/sljIHF...</td>\n",
       "      <td>False</td>\n",
       "      <td>https://www.yelp.com/biz/3-wood-pizza-and-pub-...</td>\n",
       "      <td>134</td>\n",
       "      <td>[{'alias': 'pizza', 'title': 'Pizza'}, {'alias...</td>\n",
       "      <td>4.5</td>\n",
       "      <td>{'latitude': 43.545104, 'longitude': -116.312763}</td>\n",
       "      <td>[delivery]</td>\n",
       "      <td>$$</td>\n",
       "      <td>{'address1': '10497 W Lake Hazel Rd', 'address...</td>\n",
       "      <td>+12085934141</td>\n",
       "      <td>(208) 593-4141</td>\n",
       "      <td>9220.851731</td>\n",
       "    </tr>\n",
       "  </tbody>\n",
       "</table>\n",
       "</div>"
      ],
      "text/plain": [
       "                       id                                              alias  \\\n",
       "0  mabS8Eq8CLjMZdLl3V7GWA  guidos-original-new-york-style-pizza-downtown-...   \n",
       "1  o7_5qYZan3jo9jtDUoHRsw                          casanova-pizzeria-boise-2   \n",
       "2  3X2pmXKqaMQ6xZjJHlKn8w                                 the-wylder-boise-2   \n",
       "3  -aZpjNPSNfTXYkLMkQDiKw                               spitfire-pizza-boise   \n",
       "4  VD4mZEBNiCeyGSq51XV9jw                         3-wood-pizza-and-pub-boise   \n",
       "\n",
       "                                             name  \\\n",
       "0  Guido's Original New York Style Pizza Downtown   \n",
       "1                               Casanova Pizzeria   \n",
       "2                                      The Wylder   \n",
       "3                                  Spitfire Pizza   \n",
       "4                              3 Wood Pizza & Pub   \n",
       "\n",
       "                                           image_url  is_closed  \\\n",
       "0  https://s3-media2.fl.yelpcdn.com/bphoto/uCmfN6...      False   \n",
       "1  https://s3-media1.fl.yelpcdn.com/bphoto/tt7Pdt...      False   \n",
       "2  https://s3-media2.fl.yelpcdn.com/bphoto/yH9Q85...      False   \n",
       "3  https://s3-media4.fl.yelpcdn.com/bphoto/ydGrGp...      False   \n",
       "4  https://s3-media4.fl.yelpcdn.com/bphoto/sljIHF...      False   \n",
       "\n",
       "                                                 url  review_count  \\\n",
       "0  https://www.yelp.com/biz/guidos-original-new-y...           313   \n",
       "1  https://www.yelp.com/biz/casanova-pizzeria-boi...            60   \n",
       "2  https://www.yelp.com/biz/the-wylder-boise-2?ad...           480   \n",
       "3  https://www.yelp.com/biz/spitfire-pizza-boise?...           243   \n",
       "4  https://www.yelp.com/biz/3-wood-pizza-and-pub-...           134   \n",
       "\n",
       "                                          categories  rating  \\\n",
       "0  [{'alias': 'pizza', 'title': 'Pizza'}, {'alias...     4.5   \n",
       "1  [{'alias': 'pizza', 'title': 'Pizza'}, {'alias...     4.5   \n",
       "2  [{'alias': 'pizza', 'title': 'Pizza'}, {'alias...     4.5   \n",
       "3  [{'alias': 'pizza', 'title': 'Pizza'}, {'alias...     4.5   \n",
       "4  [{'alias': 'pizza', 'title': 'Pizza'}, {'alias...     4.5   \n",
       "\n",
       "                                         coordinates        transactions  \\\n",
       "0  {'latitude': 43.6149556, 'longitude': -116.198...          [delivery]   \n",
       "1  {'latitude': 43.6204869, 'longitude': -116.220...          [delivery]   \n",
       "2  {'latitude': 43.6115114754023, 'longitude': -1...                  []   \n",
       "3     {'latitude': 43.58042, 'longitude': -116.2131}  [pickup, delivery]   \n",
       "4  {'latitude': 43.545104, 'longitude': -116.312763}          [delivery]   \n",
       "\n",
       "  price                                           location         phone  \\\n",
       "0     $  {'address1': '235 N 5th St', 'address2': '', '...  +12083459011   \n",
       "1    $$  {'address1': '2431 W Fairview Ave', 'address2'...  +12089952662   \n",
       "2    $$  {'address1': '501 W Broad St', 'address2': Non...  +12082093837   \n",
       "3    $$  {'address1': '2450 South Vista Ave', 'address2...  +12083429451   \n",
       "4    $$  {'address1': '10497 W Lake Hazel Rd', 'address...  +12085934141   \n",
       "\n",
       "    display_phone     distance  \n",
       "0  (208) 345-9011  3611.749214  \n",
       "1  (208) 995-2662  2100.618313  \n",
       "2  (208) 209-3837  3312.402056  \n",
       "3  (208) 342-9451  4195.389528  \n",
       "4  (208) 593-4141  9220.851731  "
      ]
     },
     "metadata": {},
     "output_type": "display_data"
    },
    {
     "data": {
      "text/html": [
       "<div>\n",
       "<style scoped>\n",
       "    .dataframe tbody tr th:only-of-type {\n",
       "        vertical-align: middle;\n",
       "    }\n",
       "\n",
       "    .dataframe tbody tr th {\n",
       "        vertical-align: top;\n",
       "    }\n",
       "\n",
       "    .dataframe thead th {\n",
       "        text-align: right;\n",
       "    }\n",
       "</style>\n",
       "<table border=\"1\" class=\"dataframe\">\n",
       "  <thead>\n",
       "    <tr style=\"text-align: right;\">\n",
       "      <th></th>\n",
       "      <th>id</th>\n",
       "      <th>alias</th>\n",
       "      <th>name</th>\n",
       "      <th>image_url</th>\n",
       "      <th>is_closed</th>\n",
       "      <th>url</th>\n",
       "      <th>review_count</th>\n",
       "      <th>categories</th>\n",
       "      <th>rating</th>\n",
       "      <th>coordinates</th>\n",
       "      <th>transactions</th>\n",
       "      <th>price</th>\n",
       "      <th>location</th>\n",
       "      <th>phone</th>\n",
       "      <th>display_phone</th>\n",
       "      <th>distance</th>\n",
       "    </tr>\n",
       "  </thead>\n",
       "  <tbody>\n",
       "    <tr>\n",
       "      <th>282</th>\n",
       "      <td>6iU5g238EGFa9wBwuixIWg</td>\n",
       "      <td>chilis-meridian-5</td>\n",
       "      <td>Chili's</td>\n",
       "      <td>https://s3-media3.fl.yelpcdn.com/bphoto/BpRGCb...</td>\n",
       "      <td>False</td>\n",
       "      <td>https://www.yelp.com/biz/chilis-meridian-5?adj...</td>\n",
       "      <td>121</td>\n",
       "      <td>[{'alias': 'tex-mex', 'title': 'Tex-Mex'}, {'a...</td>\n",
       "      <td>2.5</td>\n",
       "      <td>{'latitude': 43.63312, 'longitude': -116.35356}</td>\n",
       "      <td>[delivery, pickup]</td>\n",
       "      <td>$$</td>\n",
       "      <td>{'address1': '3078 N Eagle Rd', 'address2': No...</td>\n",
       "      <td>+12088845292</td>\n",
       "      <td>(208) 884-5292</td>\n",
       "      <td>9199.510084</td>\n",
       "    </tr>\n",
       "    <tr>\n",
       "      <th>283</th>\n",
       "      <td>lNQkuczvXv6vIT9JDacpHQ</td>\n",
       "      <td>applebees-grill-bar-garden-city-3</td>\n",
       "      <td>Applebee's Grill + Bar</td>\n",
       "      <td>https://s3-media1.fl.yelpcdn.com/bphoto/Dr9F5E...</td>\n",
       "      <td>False</td>\n",
       "      <td>https://www.yelp.com/biz/applebees-grill-bar-g...</td>\n",
       "      <td>47</td>\n",
       "      <td>[{'alias': 'tradamerican', 'title': 'American ...</td>\n",
       "      <td>2.5</td>\n",
       "      <td>{'latitude': 43.668344, 'longitude': -116.279842}</td>\n",
       "      <td>[delivery, pickup]</td>\n",
       "      <td>$$</td>\n",
       "      <td>{'address1': '7025 N Glenwood St', 'address2':...</td>\n",
       "      <td>+12088532330</td>\n",
       "      <td>(208) 853-2330</td>\n",
       "      <td>6994.140937</td>\n",
       "    </tr>\n",
       "    <tr>\n",
       "      <th>284</th>\n",
       "      <td>PSy-g99cUhi0FRyTKmPRQg</td>\n",
       "      <td>taco-bell-eagle-3</td>\n",
       "      <td>Taco Bell</td>\n",
       "      <td>https://s3-media4.fl.yelpcdn.com/bphoto/MUuLLA...</td>\n",
       "      <td>False</td>\n",
       "      <td>https://www.yelp.com/biz/taco-bell-eagle-3?adj...</td>\n",
       "      <td>72</td>\n",
       "      <td>[{'alias': 'mexican', 'title': 'Mexican'}, {'a...</td>\n",
       "      <td>1.5</td>\n",
       "      <td>{'latitude': 43.664327, 'longitude': -116.413251}</td>\n",
       "      <td>[delivery, pickup]</td>\n",
       "      <td>$</td>\n",
       "      <td>{'address1': '6560 N. Linder Road', 'address2'...</td>\n",
       "      <td>+12088885333</td>\n",
       "      <td>(208) 888-5333</td>\n",
       "      <td>14877.396264</td>\n",
       "    </tr>\n",
       "    <tr>\n",
       "      <th>285</th>\n",
       "      <td>Dnlg9XT7FlruWq7B-V88Cw</td>\n",
       "      <td>red-robin-gourmet-burgers-and-brews-meridian</td>\n",
       "      <td>Red Robin Gourmet Burgers and Brews</td>\n",
       "      <td>https://s3-media1.fl.yelpcdn.com/bphoto/Y9a_VH...</td>\n",
       "      <td>False</td>\n",
       "      <td>https://www.yelp.com/biz/red-robin-gourmet-bur...</td>\n",
       "      <td>201</td>\n",
       "      <td>[{'alias': 'burgers', 'title': 'Burgers'}, {'a...</td>\n",
       "      <td>2.5</td>\n",
       "      <td>{'latitude': 43.61845, 'longitude': -116.35545}</td>\n",
       "      <td>[delivery, pickup]</td>\n",
       "      <td>$$</td>\n",
       "      <td>{'address1': '1475 N Eagle Rd', 'address2': ''...</td>\n",
       "      <td>+12084010184</td>\n",
       "      <td>(208) 401-0184</td>\n",
       "      <td>9041.356161</td>\n",
       "    </tr>\n",
       "    <tr>\n",
       "      <th>286</th>\n",
       "      <td>X8k7N03buo2bBbUUfcAltQ</td>\n",
       "      <td>taco-bell-meridian</td>\n",
       "      <td>Taco Bell</td>\n",
       "      <td>https://s3-media4.fl.yelpcdn.com/bphoto/LERjhE...</td>\n",
       "      <td>False</td>\n",
       "      <td>https://www.yelp.com/biz/taco-bell-meridian?ad...</td>\n",
       "      <td>66</td>\n",
       "      <td>[{'alias': 'mexican', 'title': 'Mexican'}, {'a...</td>\n",
       "      <td>1.5</td>\n",
       "      <td>{'latitude': 43.59716, 'longitude': -116.39233}</td>\n",
       "      <td>[delivery, pickup]</td>\n",
       "      <td>$</td>\n",
       "      <td>{'address1': '645 S Main St', 'address2': '', ...</td>\n",
       "      <td>+12088840091</td>\n",
       "      <td>(208) 884-0091</td>\n",
       "      <td>12077.209294</td>\n",
       "    </tr>\n",
       "  </tbody>\n",
       "</table>\n",
       "</div>"
      ],
      "text/plain": [
       "                         id                                         alias  \\\n",
       "282  6iU5g238EGFa9wBwuixIWg                             chilis-meridian-5   \n",
       "283  lNQkuczvXv6vIT9JDacpHQ             applebees-grill-bar-garden-city-3   \n",
       "284  PSy-g99cUhi0FRyTKmPRQg                             taco-bell-eagle-3   \n",
       "285  Dnlg9XT7FlruWq7B-V88Cw  red-robin-gourmet-burgers-and-brews-meridian   \n",
       "286  X8k7N03buo2bBbUUfcAltQ                            taco-bell-meridian   \n",
       "\n",
       "                                    name  \\\n",
       "282                              Chili's   \n",
       "283               Applebee's Grill + Bar   \n",
       "284                            Taco Bell   \n",
       "285  Red Robin Gourmet Burgers and Brews   \n",
       "286                            Taco Bell   \n",
       "\n",
       "                                             image_url  is_closed  \\\n",
       "282  https://s3-media3.fl.yelpcdn.com/bphoto/BpRGCb...      False   \n",
       "283  https://s3-media1.fl.yelpcdn.com/bphoto/Dr9F5E...      False   \n",
       "284  https://s3-media4.fl.yelpcdn.com/bphoto/MUuLLA...      False   \n",
       "285  https://s3-media1.fl.yelpcdn.com/bphoto/Y9a_VH...      False   \n",
       "286  https://s3-media4.fl.yelpcdn.com/bphoto/LERjhE...      False   \n",
       "\n",
       "                                                   url  review_count  \\\n",
       "282  https://www.yelp.com/biz/chilis-meridian-5?adj...           121   \n",
       "283  https://www.yelp.com/biz/applebees-grill-bar-g...            47   \n",
       "284  https://www.yelp.com/biz/taco-bell-eagle-3?adj...            72   \n",
       "285  https://www.yelp.com/biz/red-robin-gourmet-bur...           201   \n",
       "286  https://www.yelp.com/biz/taco-bell-meridian?ad...            66   \n",
       "\n",
       "                                            categories  rating  \\\n",
       "282  [{'alias': 'tex-mex', 'title': 'Tex-Mex'}, {'a...     2.5   \n",
       "283  [{'alias': 'tradamerican', 'title': 'American ...     2.5   \n",
       "284  [{'alias': 'mexican', 'title': 'Mexican'}, {'a...     1.5   \n",
       "285  [{'alias': 'burgers', 'title': 'Burgers'}, {'a...     2.5   \n",
       "286  [{'alias': 'mexican', 'title': 'Mexican'}, {'a...     1.5   \n",
       "\n",
       "                                           coordinates        transactions  \\\n",
       "282    {'latitude': 43.63312, 'longitude': -116.35356}  [delivery, pickup]   \n",
       "283  {'latitude': 43.668344, 'longitude': -116.279842}  [delivery, pickup]   \n",
       "284  {'latitude': 43.664327, 'longitude': -116.413251}  [delivery, pickup]   \n",
       "285    {'latitude': 43.61845, 'longitude': -116.35545}  [delivery, pickup]   \n",
       "286    {'latitude': 43.59716, 'longitude': -116.39233}  [delivery, pickup]   \n",
       "\n",
       "    price                                           location         phone  \\\n",
       "282    $$  {'address1': '3078 N Eagle Rd', 'address2': No...  +12088845292   \n",
       "283    $$  {'address1': '7025 N Glenwood St', 'address2':...  +12088532330   \n",
       "284     $  {'address1': '6560 N. Linder Road', 'address2'...  +12088885333   \n",
       "285    $$  {'address1': '1475 N Eagle Rd', 'address2': ''...  +12084010184   \n",
       "286     $  {'address1': '645 S Main St', 'address2': '', ...  +12088840091   \n",
       "\n",
       "      display_phone      distance  \n",
       "282  (208) 884-5292   9199.510084  \n",
       "283  (208) 853-2330   6994.140937  \n",
       "284  (208) 888-5333  14877.396264  \n",
       "285  (208) 401-0184   9041.356161  \n",
       "286  (208) 884-0091  12077.209294  "
      ]
     },
     "metadata": {},
     "output_type": "display_data"
    }
   ],
   "source": [
    "# load final results\n",
    "final_df = pd.read_json(JSON_FILE)\n",
    "display(final_df.head(), final_df.tail())"
   ]
  },
  {
   "cell_type": "markdown",
   "id": "db0c3499",
   "metadata": {},
   "source": [
    "# Check for duplicates"
   ]
  },
  {
   "cell_type": "code",
   "execution_count": 16,
   "id": "722357cb",
   "metadata": {},
   "outputs": [
    {
     "data": {
      "text/plain": [
       "0"
      ]
     },
     "execution_count": 16,
     "metadata": {},
     "output_type": "execute_result"
    }
   ],
   "source": [
    "# check for duplicate results\n",
    "final_df.duplicated(subset='id').sum()"
   ]
  },
  {
   "cell_type": "markdown",
   "id": "e826a6da",
   "metadata": {},
   "source": [
    "# Save the final DataFrame to a .csv (or a .csv.gz if it's too big for the GitHub file size limit)."
   ]
  },
  {
   "cell_type": "code",
   "execution_count": 17,
   "id": "af144380",
   "metadata": {},
   "outputs": [],
   "source": [
    "# save the final results to a compressed csv\n",
    "final_df.to_csv('Data/final_results_ID_pizza.csv.gz', compression='gzip',index=False)"
   ]
  }
 ],
 "metadata": {
  "kernelspec": {
   "display_name": "Python (dojo-env)",
   "language": "python",
   "name": "dojo-env"
  },
  "language_info": {
   "codemirror_mode": {
    "name": "ipython",
    "version": 3
   },
   "file_extension": ".py",
   "mimetype": "text/x-python",
   "name": "python",
   "nbconvert_exporter": "python",
   "pygments_lexer": "ipython3",
   "version": "3.9.15"
  },
  "toc": {
   "base_numbering": 1,
   "nav_menu": {},
   "number_sections": true,
   "sideBar": true,
   "skip_h1_title": false,
   "title_cell": "Table of Contents",
   "title_sidebar": "Contents",
   "toc_cell": false,
   "toc_position": {},
   "toc_section_display": true,
   "toc_window_display": false
  }
 },
 "nbformat": 4,
 "nbformat_minor": 5
}
